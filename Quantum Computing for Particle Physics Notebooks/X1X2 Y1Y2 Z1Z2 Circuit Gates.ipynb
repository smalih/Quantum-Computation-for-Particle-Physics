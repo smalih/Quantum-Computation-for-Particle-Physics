{
 "cells": [
  {
   "cell_type": "code",
   "execution_count": 1,
   "id": "6ceb70ed",
   "metadata": {
    "collapsed": true
   }
   ],
   "source": [
    "import sys\n",
    "!{sys.executable} -m pip install matplotlib qiskit pylatexenc"
   ]
  },
  {
   "cell_type": "code",
   "execution_count": 2,
   "id": "1a5a2c77",
   "metadata": {},
   "outputs": [
    {
     "data": {
      "text/html": [
       "<style>\n",
       ".output {\n",
       "    flex-direction: row;\n",
       "}\n",
       "</style>"
      ],
      "text/plain": [
       "<IPython.core.display.HTML object>"
      ]
     },
     "execution_count": 2,
     "metadata": {},
     "output_type": "execute_result"
    }
   ],
   "source": [
    "import numpy as np\n",
    "import matplotlib.pyplot as plt\n",
    "import pandas as pd\n",
    "import pprint\n",
    "import math\n",
    "from math import pi, sin\n",
    "from qiskit import QuantumCircuit, QuantumRegister, ClassicalRegister, transpile\n",
    "from qiskit.providers.aer import QasmSimulator\n",
    "from qiskit.visualization import plot_histogram\n",
    "from IPython.display import display, HTML\n",
    "\n",
    "# necessary styling for tables (delta_t and shots) to be displayed side-by-side\n",
    "CSS = \"\"\"\n",
    ".output {\n",
    "    flex-direction: row;\n",
    "}\n",
    "\"\"\"\n",
    "HTML('<style>{}</style>'.format(CSS))"
   ]
  },
  {
   "cell_type": "code",
   "execution_count": 3,
   "id": "bf64a125",
   "metadata": {},
   "outputs": [],
   "source": [
    "theta = 2*pi/3\n",
    "t = 10\n",
    "T = 100\n",
    "w = 0.5\n",
    "m = [0, 0.5]\n",
    "m0 = 1\n",
    "n = 4\n",
    "delta_t = 0.01\n",
    "g = 1\n",
    "j = (g**2)/(4*w)\n",
    "shots = 20000\n",
    "\n",
    "# massless\n",
    "w_tilde1 = (t/T)*w - ((((-1)^n)/2)*(((1-(t/T))*m0)+m[0])*sin(theta*(t/T)))\n",
    "angle1 = w_tilde1*delta_t\n",
    "# massive\n",
    "w_tilde2 = (t/T)*w - ((((-1)^n)/2)*(((1-(t/T))*m0)+m[1])*sin(theta*(t/T)))\n",
    "angle2 = w_tilde2*delta_t\n"
   ]
  },
  {
   "cell_type": "markdown",
   "id": "ec5d9fdf",
   "metadata": {},
   "source": [
    "I will run the below circuits, taking m to be 0."
   ]
  },
  {
   "cell_type": "markdown",
   "id": "61a45a58",
   "metadata": {},
   "source": [
    "### $X_1X_2$"
   ]
  },
  {
   "cell_type": "code",
   "execution_count": 4,
   "id": "c2daaac0",
   "metadata": {},
   "outputs": [
    {
     "data": {
      "image/png": "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\n",
      "text/plain": [
       "<Figure size 447.652x204.68 with 1 Axes>"
      ]
     },
     "execution_count": 4,
     "metadata": {},
     "output_type": "execute_result"
    }
   ],
   "source": [
    "# Setup circuit incl. quantum and classical registers\n",
    "\n",
    "qreg = QuantumRegister(2, 'q')\n",
    "creg = ClassicalRegister(2, 'c')\n",
    "circuit = QuantumCircuit(qreg, creg)\n",
    "\n",
    "circuit.x(qreg[1])\n",
    "circuit.reset(qreg[0])\n",
    "circuit.cx(qreg[0], qreg[1])\n",
    "circuit.rx(angle1,qreg[0])\n",
    "circuit.cx(qreg[0], qreg[1])\n",
    "\n",
    "# Measuring qubits from the quantum register unto the classical register\n",
    "circuit.measure(qreg, creg)\n",
    "# Printing the circuit\n",
    "circuit.draw(output='mpl')"
   ]
  },
  {
   "cell_type": "code",
   "execution_count": 5,
   "id": "2aa10ae6",
   "metadata": {},
   "outputs": [
    {
     "name": "stdout",
     "output_type": "stream",
     "text": [
      "10: 20000\n",
      "P(10) = 100.0%\n"
     ]
    },
    {
     "data": {
      "image/png": "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\n",
      "text/plain": [
       "<Figure size 504x360 with 1 Axes>"
      ]
     },
     "execution_count": 5,
     "metadata": {},
     "output_type": "execute_result"
    }
   ],
   "source": [
    "# Setup and run simulator, and display the results\n",
    "simulator = QasmSimulator()\n",
    "compiled_circuit = transpile(circuit, simulator)\n",
    "# shots is the no. of times the circuit is run\n",
    "job = simulator.run(compiled_circuit, shots=shots) \n",
    "result = job.result()\n",
    "counts = result.get_counts(circuit)\n",
    "\n",
    "# printing the no. of times each state is observed \n",
    "# along with their probabilities\n",
    "for k, v in counts.items():\n",
    "  print(f'{k}: {v}')\n",
    "for k, v in counts.items():\n",
    "  print(f'P({k}) = {round((v*100/shots), 3)}%')\n",
    "# plotting a histogram od the results\n",
    "plot_histogram(counts)"
   ]
  },
  {
   "cell_type": "markdown",
   "id": "f2fae997",
   "metadata": {},
   "source": [
    "### $Y_1Y_2$"
   ]
  },
  {
   "cell_type": "code",
   "execution_count": 6,
   "id": "a852d2ea",
   "metadata": {
    "scrolled": true
   },
   "outputs": [
    {
     "data": {
      "image/png": "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\n",
      "text/plain": [
       "<Figure size 568.052x204.68 with 1 Axes>"
      ]
     },
     "execution_count": 6,
     "metadata": {},
     "output_type": "execute_result"
    }
   ],
   "source": [
    "qreg = QuantumRegister(2, 'q')\n",
    "creg = ClassicalRegister(2, 'c')\n",
    "circuit = QuantumCircuit(qreg, creg)\n",
    "\n",
    "circuit.x(qreg[1])\n",
    "circuit.reset(qreg[0])\n",
    "circuit.rz(-pi/2, qreg[0])\n",
    "circuit.rz(-pi/2, qreg[1])\n",
    "circuit.cx(qreg[0], qreg[1])\n",
    "circuit.rx(angle1,qreg[0])\n",
    "circuit.cx(qreg[0], qreg[1])\n",
    "circuit.rz(pi/2, qreg[0])\n",
    "circuit.rz(pi/2, qreg[1])\n",
    "\n",
    "circuit.measure(qreg, creg)\n",
    "circuit.draw(output='mpl')"
   ]
  },
  {
   "cell_type": "code",
   "execution_count": 7,
   "id": "3c8fd4e7",
   "metadata": {},
   "outputs": [
    {
     "name": "stdout",
     "output_type": "stream",
     "text": [
      "10: 20000\n",
      "P(10) = 100.0%\n"
     ]
    },
    {
     "data": {
      "image/png": "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\n",
      "text/plain": [
       "<Figure size 504x360 with 1 Axes>"
      ]
     },
     "execution_count": 7,
     "metadata": {},
     "output_type": "execute_result"
    }
   ],
   "source": [
    "simulator = QasmSimulator()\n",
    "compiled_circuit = transpile(circuit, simulator)\n",
    "job = simulator.run(compiled_circuit, shots=shots) \n",
    "result = job.result()\n",
    "counts = result.get_counts(circuit)\n",
    "\n",
    "for k, v in counts.items():\n",
    "  print(f'{k}: {v}')\n",
    "for k, v in counts.items():\n",
    "  print(f'P({k}) = {round((v*100/shots), 3)}%')\n",
    "plot_histogram(counts)"
   ]
  },
  {
   "cell_type": "markdown",
   "id": "b7768254",
   "metadata": {},
   "source": [
    "### $Z_1Z_2$"
   ]
  },
  {
   "cell_type": "code",
   "execution_count": 8,
   "id": "0198328d",
   "metadata": {
    "scrolled": false
   },
   "outputs": [
    {
     "data": {
      "image/png": "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\n",
      "text/plain": [
       "<Figure size 447.652x204.68 with 1 Axes>"
      ]
     },
     "execution_count": 8,
     "metadata": {},
     "output_type": "execute_result"
    }
   ],
   "source": [
    "qreg = QuantumRegister(2, 'q')\n",
    "creg = ClassicalRegister(2, 'c')\n",
    "\n",
    "circuit = QuantumCircuit(qreg, creg)\n",
    "circuit.reset(qreg[0])\n",
    "circuit.x(qreg[1])\n",
    "circuit.cx(qreg[0], qreg[1])\n",
    "circuit.rz(j*delta_t, qreg[1])\n",
    "circuit.cx(qreg[0], qreg[1])\n",
    "\n",
    "circuit.measure(qreg, creg)\n",
    "circuit.draw(output='mpl')"
   ]
  },
  {
   "cell_type": "code",
   "execution_count": 9,
   "id": "dd18802a",
   "metadata": {},
   "outputs": [
    {
     "name": "stdout",
     "output_type": "stream",
     "text": [
      "10: 20000\n",
      "P(10) = 100.0%\n"
     ]
    },
    {
     "data": {
      "image/png": "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\n",
      "text/plain": [
       "<Figure size 504x360 with 1 Axes>"
      ]
     },
     "execution_count": 9,
     "metadata": {},
     "output_type": "execute_result"
    }
   ],
   "source": [
    "simulator = QasmSimulator()\n",
    "compiled_circuit = transpile(circuit, simulator)\n",
    "job = simulator.run(compiled_circuit, shots=shots) \n",
    "result = job.result()\n",
    "counts = result.get_counts(circuit)\n",
    "\n",
    "for k, v in counts.items():\n",
    "  print(f'{k}: {v}')\n",
    "for k, v in counts.items():\n",
    "  print(f'P({k}) = {round((v*100/shots), 3)}%')\n",
    "plot_histogram(counts)"
   ]
  },
  {
   "cell_type": "markdown",
   "id": "ab0ce182",
   "metadata": {},
   "source": [
    "The $X_1X_2$ and $Y_1Y_2$ gates essentially produce the same state(s), almost 100% the $|10⟩$ state, where 1 or 2 out of 20,000 shots, the $|01⟩$ state is produced instead. However, the Z1Z2 gate produces the $|10⟩$ state with 100% accuracy every time the circuit is run (after having run the circuit around ten times, each the time 20,000 out of 20,000 shots produce the $|10⟩$ state for the $Z_1Z_2$ gate). \n",
    "It appears as if the $X_1X_2, Y_1, Y_2$ and $Z_1Z_2$ gates function as quantum NOT gates.\n",
    "Note that the above results are for m=0, i.e., mass is be negligible."
   ]
  },
  {
   "cell_type": "markdown",
   "id": "ab9416b4",
   "metadata": {},
   "source": [
    "This time, I will run the circuit with the mass taken into consideration (m=0.5). However, I will not rerun the $Z_1Z_2$ gate as it is independent of the mass."
   ]
  },
  {
   "cell_type": "markdown",
   "id": "305e4c3c",
   "metadata": {},
   "source": [
    "### $X_1X_2$"
   ]
  },
  {
   "cell_type": "code",
   "execution_count": 10,
   "id": "e7e806b8",
   "metadata": {
    "scrolled": true
   },
   "outputs": [
    {
     "data": {
      "image/png": "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\n",
      "text/plain": [
       "<Figure size 447.652x204.68 with 1 Axes>"
      ]
     },
     "execution_count": 10,
     "metadata": {},
     "output_type": "execute_result"
    }
   ],
   "source": [
    "qreg = QuantumRegister(2, 'q')\n",
    "creg = ClassicalRegister(2, 'c')\n",
    "\n",
    "circuit = QuantumCircuit(qreg, creg)\n",
    "circuit.reset(qreg[0])\n",
    "circuit.x(qreg[1])\n",
    "circuit.cx(qreg[0], qreg[1])\n",
    "circuit.rx(angle2,qreg[0])\n",
    "circuit.cx(qreg[0], qreg[1])\n",
    "\n",
    "circuit.measure(qreg, creg)\n",
    "circuit.draw(output='mpl')"
   ]
  },
  {
   "cell_type": "code",
   "execution_count": 11,
   "id": "0d12b2ac",
   "metadata": {
    "scrolled": false
   },
   "outputs": [
    {
     "name": "stdout",
     "output_type": "stream",
     "text": [
      "10: 20000\n",
      "P(10) = 100.0%\n"
     ]
    },
    {
     "data": {
      "image/png": "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\n",
      "text/plain": [
       "<Figure size 504x360 with 1 Axes>"
      ]
     },
     "execution_count": 11,
     "metadata": {},
     "output_type": "execute_result"
    }
   ],
   "source": [
    "simulator = QasmSimulator()\n",
    "compiled_circuit = transpile(circuit, simulator)\n",
    "\n",
    "job = simulator.run(compiled_circuit, shots=shots) \n",
    "result = job.result()\n",
    "counts = result.get_counts(circuit)\n",
    "\n",
    "for k, v in counts.items():\n",
    "  print(f'{k}: {v}')\n",
    "for k, v in counts.items():\n",
    "  print(f'P({k}) = {round((v/shots)*100, 3)}%')\n",
    "plot_histogram(counts)"
   ]
  },
  {
   "cell_type": "markdown",
   "id": "c696e4cf",
   "metadata": {},
   "source": [
    "### $Y_1Y_2$"
   ]
  },
  {
   "cell_type": "code",
   "execution_count": 12,
   "id": "7309995c",
   "metadata": {
    "scrolled": false
   },
   "outputs": [
    {
     "data": {
      "image/png": "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\n",
      "text/plain": [
       "<Figure size 568.052x204.68 with 1 Axes>"
      ]
     },
     "execution_count": 12,
     "metadata": {},
     "output_type": "execute_result"
    }
   ],
   "source": [
    "qreg = QuantumRegister(2, 'q')\n",
    "creg = ClassicalRegister(2, 'c')\n",
    "circuit = QuantumCircuit(qreg, creg)\n",
    "\n",
    "circuit.reset(qreg[0])\n",
    "circuit.x(qreg[1])\n",
    "circuit.rz(-pi/2, qreg[0])\n",
    "circuit.rz(-pi/2, qreg[1])\n",
    "circuit.cx(qreg[0], qreg[1])\n",
    "circuit.rx(angle2,qreg[0])\n",
    "circuit.cx(qreg[0], qreg[1])\n",
    "circuit.rz(pi/2, qreg[0])\n",
    "circuit.rz(pi/2, qreg[1])\n",
    "\n",
    "circuit.measure(qreg, creg)\n",
    "circuit.draw(output='mpl')"
   ]
  },
  {
   "cell_type": "code",
   "execution_count": 13,
   "id": "2a219e43",
   "metadata": {
    "scrolled": true
   },
   "outputs": [
    {
     "name": "stdout",
     "output_type": "stream",
     "text": [
      "10: 20000\n",
      "P(10) = 100.0%\n"
     ]
    },
    {
     "data": {
      "image/png": "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\n",
      "text/plain": [
       "<Figure size 504x360 with 1 Axes>"
      ]
     },
     "execution_count": 13,
     "metadata": {},
     "output_type": "execute_result"
    }
   ],
   "source": [
    "simulator = QasmSimulator()\n",
    "compiled_circuit = transpile(circuit, simulator)\n",
    "job = simulator.run(compiled_circuit, shots=shots) \n",
    "result = job.result()\n",
    "counts = result.get_counts(circuit)\n",
    "\n",
    "for k, v in counts.items():\n",
    "  print(f'{k}: {v}')\n",
    "for k, v in counts.items():\n",
    "  print(f'P({k}) = {round((v/shots)*100, 3)}%')\n",
    "plot_histogram(counts)"
   ]
  },
  {
   "cell_type": "markdown",
   "id": "faab0545",
   "metadata": {},
   "source": [
    "As you can see from the results above, the $X_1X_2$ and $Y_1Y_2$ gate almost produce the $|10⟩$ with 100% accuracy again. It seems that taking mass into consideration has not significantly affected the likelihood of measuring the $|01⟩$ state."
   ]
  },
  {
   "cell_type": "markdown",
   "id": "28db1507",
   "metadata": {},
   "source": [
    "### Full Circuit\n"
   ]
  },
  {
   "cell_type": "code",
   "execution_count": 14,
   "id": "d60fa42e",
   "metadata": {},
   "outputs": [
    {
     "data": {
      "image/png": "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\n",
      "text/plain": [
       "<Figure size 1591.6x686.28 with 1 Axes>"
      ]
     },
     "execution_count": 14,
     "metadata": {},
     "output_type": "execute_result"
    }
   ],
   "source": [
    "def makeFullCircuit(angle):\n",
    "    qreg = QuantumRegister(4, 'q')\n",
    "    creg = ClassicalRegister(4, 'c')\n",
    "    circuit = QuantumCircuit(qreg, creg)\n",
    "    \n",
    "    circuit.reset(qreg[0])\n",
    "    circuit.x(qreg[1])\n",
    "    circuit.reset(qreg[2])\n",
    "    circuit.x(qreg[3])\n",
    "    circuit.rz(pi/2, qreg[0])\n",
    "    circuit.rz(pi/2, qreg[1])\n",
    "    circuit.rz(-pi/2, qreg[0])\n",
    "    circuit.rz(-pi/2, qreg[1])\n",
    "    circuit.cx(qreg[0], qreg[1])\n",
    "    circuit.rx(angle, qreg[0])\n",
    "    circuit.cx(qreg[0], qreg[1])\n",
    "    circuit.rz(pi/2, qreg[0])\n",
    "    circuit.rz(pi/2, qreg[1])\n",
    "\n",
    "    circuit.rz(pi/2, qreg[2])\n",
    "    circuit.rz(pi/2, qreg[3])\n",
    "    circuit.rz(-pi/2, qreg[2])\n",
    "    circuit.rz(-pi/2, qreg[3])\n",
    "    circuit.cx(qreg[2], qreg[3])\n",
    "    circuit.rx(angle, qreg[2])\n",
    "    circuit.cx(qreg[2], qreg[3])\n",
    "    circuit.rz(pi/2, qreg[2])\n",
    "    circuit.rz(pi/2, qreg[3])\n",
    "\n",
    "\n",
    "    circuit.rz(-pi/2, qreg[1])\n",
    "    circuit.rz(-pi/2, qreg[2])\n",
    "    circuit.cx(qreg[1], qreg[2])\n",
    "    circuit.rx(angle, qreg[1])\n",
    "    circuit.cx(qreg[1], qreg[2])\n",
    "    circuit.rz(pi/2, qreg[1])\n",
    "    circuit.rz(pi/2, qreg[2])\n",
    "\n",
    "    circuit.cx(qreg[0], qreg[1])\n",
    "    circuit.rx(angle, qreg[0])\n",
    "    circuit.cx(qreg[0], qreg[1])\n",
    "\n",
    "    circuit.cx(qreg[2], qreg[3])\n",
    "    circuit.rx(angle1, qreg[2])\n",
    "    circuit.cx(qreg[2], qreg[3])\n",
    "\n",
    "    circuit.cx(qreg[1], qreg[2])\n",
    "    circuit.rx(angle, qreg[1])\n",
    "    circuit.cx(qreg[1], qreg[2])\n",
    "\n",
    "    circuit.cx(qreg[0], qreg[1])\n",
    "    circuit.rz(j*delta_t, qreg[1])\n",
    "    circuit.cx(qreg[0], qreg[1])\n",
    "\n",
    "    circuit.cx(qreg[0], qreg[2])\n",
    "    circuit.rz(j*delta_t, qreg[2])\n",
    "    circuit.cx(qreg[0], qreg[2])\n",
    "\n",
    "    circuit.cx(qreg[1], qreg[2])\n",
    "    circuit.rz(j*delta_t, qreg[2])\n",
    "    circuit.cx(qreg[1], qreg[2])\n",
    "\n",
    "    circuit.measure(qreg, creg)\n",
    "    return circuit\n",
    "circuit = makeFullCircuit(angle1)\n",
    "circuit.draw(output='mpl')"
   ]
  },
  {
   "cell_type": "code",
   "execution_count": 18,
   "id": "203ccf71",
   "metadata": {
    "scrolled": false
   },
   "outputs": [
    {
     "data": {
      "text/html": [
       "<div>\n",
       "<style scoped>\n",
       "    .dataframe tbody tr th:only-of-type {\n",
       "        vertical-align: middle;\n",
       "    }\n",
       "\n",
       "    .dataframe tbody tr th {\n",
       "        vertical-align: top;\n",
       "    }\n",
       "\n",
       "    .dataframe thead th {\n",
       "        text-align: right;\n",
       "    }\n",
       "</style>\n",
       "<table border=\"1\" class=\"dataframe\">\n",
       "  <thead>\n",
       "    <tr style=\"text-align: right;\">\n",
       "      <th></th>\n",
       "      <th>0.001</th>\n",
       "      <th>0.005</th>\n",
       "      <th>0.010</th>\n",
       "      <th>0.050</th>\n",
       "      <th>0.100</th>\n",
       "      <th>0.500</th>\n",
       "    </tr>\n",
       "    <tr>\n",
       "      <th>State</th>\n",
       "      <th></th>\n",
       "      <th></th>\n",
       "      <th></th>\n",
       "      <th></th>\n",
       "      <th></th>\n",
       "      <th></th>\n",
       "    </tr>\n",
       "  </thead>\n",
       "  <tbody>\n",
       "    <tr>\n",
       "      <th>0011</th>\n",
       "      <td>0.0</td>\n",
       "      <td>0.000</td>\n",
       "      <td>0.0000</td>\n",
       "      <td>0.0000</td>\n",
       "      <td>0.0000</td>\n",
       "      <td>0.0010</td>\n",
       "    </tr>\n",
       "    <tr>\n",
       "      <th>0101</th>\n",
       "      <td>0.0</td>\n",
       "      <td>0.000</td>\n",
       "      <td>0.0000</td>\n",
       "      <td>0.0000</td>\n",
       "      <td>0.0005</td>\n",
       "      <td>0.1150</td>\n",
       "    </tr>\n",
       "    <tr>\n",
       "      <th>0110</th>\n",
       "      <td>0.0</td>\n",
       "      <td>0.002</td>\n",
       "      <td>0.0035</td>\n",
       "      <td>0.0195</td>\n",
       "      <td>0.0800</td>\n",
       "      <td>1.6340</td>\n",
       "    </tr>\n",
       "    <tr>\n",
       "      <th>1001</th>\n",
       "      <td>0.0</td>\n",
       "      <td>0.002</td>\n",
       "      <td>0.0020</td>\n",
       "      <td>0.0655</td>\n",
       "      <td>0.2705</td>\n",
       "      <td>6.1750</td>\n",
       "    </tr>\n",
       "    <tr>\n",
       "      <th>1010</th>\n",
       "      <td>100.0</td>\n",
       "      <td>99.995</td>\n",
       "      <td>99.9915</td>\n",
       "      <td>99.8490</td>\n",
       "      <td>99.3870</td>\n",
       "      <td>85.6750</td>\n",
       "    </tr>\n",
       "    <tr>\n",
       "      <th>1100</th>\n",
       "      <td>0.0</td>\n",
       "      <td>0.001</td>\n",
       "      <td>0.0030</td>\n",
       "      <td>0.0660</td>\n",
       "      <td>0.2620</td>\n",
       "      <td>6.2925</td>\n",
       "    </tr>\n",
       "    <tr>\n",
       "      <th>1111</th>\n",
       "      <td>0.0</td>\n",
       "      <td>0.000</td>\n",
       "      <td>0.0000</td>\n",
       "      <td>0.0000</td>\n",
       "      <td>0.0000</td>\n",
       "      <td>0.1075</td>\n",
       "    </tr>\n",
       "  </tbody>\n",
       "</table>\n",
       "</div>"
      ],
      "text/plain": [
       "       0.001   0.005    0.010    0.050    0.100    0.500\n",
       "State                                                   \n",
       "0011     0.0   0.000   0.0000   0.0000   0.0000   0.0010\n",
       "0101     0.0   0.000   0.0000   0.0000   0.0005   0.1150\n",
       "0110     0.0   0.002   0.0035   0.0195   0.0800   1.6340\n",
       "1001     0.0   0.002   0.0020   0.0655   0.2705   6.1750\n",
       "1010   100.0  99.995  99.9915  99.8490  99.3870  85.6750\n",
       "1100     0.0   0.001   0.0030   0.0660   0.2620   6.2925\n",
       "1111     0.0   0.000   0.0000   0.0000   0.0000   0.1075"
      ]
     },
     "metadata": {},
     "output_type": "display_data"
    },
    {
     "data": {
      "text/html": [
       "<div>\n",
       "<style scoped>\n",
       "    .dataframe tbody tr th:only-of-type {\n",
       "        vertical-align: middle;\n",
       "    }\n",
       "\n",
       "    .dataframe tbody tr th {\n",
       "        vertical-align: top;\n",
       "    }\n",
       "\n",
       "    .dataframe thead th {\n",
       "        text-align: right;\n",
       "    }\n",
       "</style>\n",
       "<table border=\"1\" class=\"dataframe\">\n",
       "  <thead>\n",
       "    <tr style=\"text-align: right;\">\n",
       "      <th></th>\n",
       "      <th>100</th>\n",
       "      <th>500</th>\n",
       "      <th>2000</th>\n",
       "      <th>5000</th>\n",
       "      <th>10000</th>\n",
       "      <th>20000</th>\n",
       "    </tr>\n",
       "    <tr>\n",
       "      <th>State</th>\n",
       "      <th></th>\n",
       "      <th></th>\n",
       "      <th></th>\n",
       "      <th></th>\n",
       "      <th></th>\n",
       "      <th></th>\n",
       "    </tr>\n",
       "  </thead>\n",
       "  <tbody>\n",
       "    <tr>\n",
       "      <th>0110</th>\n",
       "      <td>0.0</td>\n",
       "      <td>0.02</td>\n",
       "      <td>0.00</td>\n",
       "      <td>0.008</td>\n",
       "      <td>0.001</td>\n",
       "      <td>0.0015</td>\n",
       "    </tr>\n",
       "    <tr>\n",
       "      <th>1001</th>\n",
       "      <td>0.0</td>\n",
       "      <td>0.00</td>\n",
       "      <td>0.01</td>\n",
       "      <td>0.004</td>\n",
       "      <td>0.002</td>\n",
       "      <td>0.0015</td>\n",
       "    </tr>\n",
       "    <tr>\n",
       "      <th>1010</th>\n",
       "      <td>100.0</td>\n",
       "      <td>99.98</td>\n",
       "      <td>99.99</td>\n",
       "      <td>99.986</td>\n",
       "      <td>99.995</td>\n",
       "      <td>99.9955</td>\n",
       "    </tr>\n",
       "    <tr>\n",
       "      <th>1100</th>\n",
       "      <td>0.0</td>\n",
       "      <td>0.00</td>\n",
       "      <td>0.00</td>\n",
       "      <td>0.002</td>\n",
       "      <td>0.002</td>\n",
       "      <td>0.0015</td>\n",
       "    </tr>\n",
       "  </tbody>\n",
       "</table>\n",
       "</div>"
      ],
      "text/plain": [
       "       100    500    2000    5000    10000    20000\n",
       "State                                              \n",
       "0110     0.0   0.02   0.00   0.008   0.001   0.0015\n",
       "1001     0.0   0.00   0.01   0.004   0.002   0.0015\n",
       "1010   100.0  99.98  99.99  99.986  99.995  99.9955\n",
       "1100     0.0   0.00   0.00   0.002   0.002   0.0015"
      ]
     },
     "metadata": {},
     "output_type": "display_data"
    }
   ],
   "source": [
    "n = 10\n",
    "shots_list = [100, 500, 2000, 5000, 10000, 20000]\n",
    "delta_t_list = [0.001, 0.005, 0.01, 0.05, 0.1, 0.5]\n",
    "states = set()\n",
    "data = {}\n",
    "\n",
    "# Run the simulation n times for every value of delta_t,\n",
    "# and end up with the final result as a pandas dataframe of the mean values\n",
    "for val in delta_t_list:\n",
    "    temp = []\n",
    "    for i in range(n):\n",
    "        angle = w_tilde1*val\n",
    "        circuit = makeFullCircuit(angle)\n",
    "        simulator = QasmSimulator()\n",
    "        compiled_circuit = transpile(circuit, simulator)\n",
    "        # shots is the no. of times the circuit is run\n",
    "        job = simulator.run(compiled_circuit, shots=shots) \n",
    "        result = job.result()\n",
    "        temp.append((val, result.get_counts(circuit)))\n",
    "    for j in range(len(temp)):\n",
    "        for k, v in temp[j][1].items():\n",
    "            data[(val,k)] = data[(val, k)]+v if ((val, k)) in data.keys() else v\n",
    "            states.add(k)\n",
    "for j in range(len(temp)):\n",
    "        for key in temp[j][1].keys():\n",
    "            states.add(key)\n",
    "\n",
    "states = sorted(list(states))\n",
    "transformed_data_delta_t = {val: [0]*len(states) for val in delta_t_list}\n",
    "for i in range(len(states)):\n",
    "    for k, v in data.items():\n",
    "        val = k[0]\n",
    "        state = k[1]\n",
    "        # divide by n*2000 to find the ratio of mean no. occurences of\n",
    "        # statex to total no. of shots and then multiply by 100 to find probability\n",
    "        # of observing statex for a given delta t as a percentage\n",
    "        num_occurs =(v*100)/(n*shots)\n",
    "        transformed_data_delta_t[val][states.index(state)] = num_occurs\n",
    "\n",
    "transformed_data_delta_t = pd.DataFrame(transformed_data_delta_t, index=(states))\n",
    "transformed_data_delta_t.index.name = 'State'\n",
    "\n",
    "\n",
    "states = set()\n",
    "data = {}\n",
    "angle = w_tilde1*delta_t\n",
    "\n",
    "# Run the simulation n times for every value of shots,\n",
    "# and end up with the final result as a pandas dataframe of the mean values\n",
    "for shot in shots_list:\n",
    "    temp = []\n",
    "    for i in range(n):\n",
    "        circuit = makeFullCircuit(angle)\n",
    "        simulator = QasmSimulator()\n",
    "        compiled_circuit = transpile(circuit, simulator)\n",
    "        # shots is the no. of times the circuit is run\n",
    "        job = simulator.run(compiled_circuit, shots=shot) \n",
    "        result = job.result()\n",
    "        temp.append((shot, result.get_counts(circuit)))\n",
    "    for j in range(len(temp)):\n",
    "        for k, v in temp[j][1].items():\n",
    "            data[(shot,k)] = data[(shot, k)]+v if ((shot, k)) in data.keys() else v\n",
    "            states.add(k)\n",
    "for j in range(len(temp)):\n",
    "        for key in temp[j][1].keys():\n",
    "            states.add(key)\n",
    "\n",
    "states = sorted(list(states))\n",
    "transformed_data_shots = {shot: [0]*len(states) for shot in shots_list}\n",
    "for i in range(len(states)):\n",
    "    for k, v in data.items():\n",
    "        shot = k[0]\n",
    "        state = k[1]\n",
    "        # divide by n*2000 to find the ratio of mean no. occurences of\n",
    "        # statex to total no. of shots and then multiply by 100 to find probability\n",
    "        # of observing statex for a given shot as a percentage\n",
    "        num_occurs =(v*100)/(n*shot)\n",
    "        transformed_data_shots[shot][states.index(state)] = num_occurs\n",
    "\n",
    "transformed_data_shots = pd.DataFrame(transformed_data_shots, index=(states))\n",
    "transformed_data_shots.index.name = 'State'\n",
    "display(transformed_data_delta_t)\n",
    "display(transformed_data_shots)"
   ]
  },
  {
   "cell_type": "markdown",
   "id": "dede8433",
   "metadata": {},
   "source": [
    "### Results Breakdown and Analysis (V2)\n",
    "I ran the circuit 10 times for each value of $\\delta t$ (results shown in the table on the left, with shots=20,000); 0.001; 0.005; 0.01; 0.05; 0.1; 0.5, and repeated the process for different number of shots (results shown in the table on the right, with $\\delta$=0.001): 100; 500; 2,000; 50,00; 10,000; 20,000.\n",
    "\n",
    "I obtained a much larger sample size than last time because I automated the process, which was previously carried out manually.\n",
    "\n",
    "\n",
    "#### Independent Parameter - $\\delta t$ (left)\n",
    "The table on the left shows that using a very small value of $\\delta t$ will cause the circuit to output $|1010⟩$ with near 100% probability. But as we begin to increase the value of $\\delta t$, the general trend is that the probability of measuring $|1010⟩$ falls away, and the probability of measuring other states increases.\n",
    "What I find interesting is that the data suggests, although no formal statistical test of significance has been carried out to confirm this as of yet, that the states which are measured are not random. We can see in the table on the left that the other states are progressively introduced as the value of $\\delta t$ increases. It is not the case that a state appears for a low value of $\\delta t$ (e.g., 0.0001), and then disappears again. Once measured, the state continues to be measured. Moreover, states that were measured for smaller values of $\\delta t$ have a greater probability of being measured at $\\delta t=0.5$ then states which were measured later on for larger values of $\\delta t$.\n",
    "\n",
    "#### Independent Parameter - shots (right)\n",
    "The table on the right that increasing the number of shots (at $\\delta t = 0.001$) causes the probability of measuring other states to increase. However, it does seem to be more random for which state appears compared to the when the independent parameter is $\\delta t$, as the shots table reveals that $|0110⟩$ is measured 10 times on average at 2,000 shots, but less than 2.5 times on average at 5,000 shots. "
   ]
  },
  {
   "cell_type": "markdown",
   "id": "dccf042d",
   "metadata": {},
   "source": [
    "---\n",
    "### Results Breakdown and Analysis (V1)\n",
    "\n",
    "I ran the circuit three times for each shot, using shots: 100, 500, 2000, 5000, 10000 and 20000.\n",
    "The first table below shows the mean number of occurences of each state for each number of shots. (These results were produced using delta_t = 0.1 rather than 0.01, which is a mistake).\n",
    "I have added a second table which shows the probability (%) of each state occurrring for each number of shots.\n",
    "\n",
    "\n",
    "| State | 100 | 500 | 2000 | 5000 | 10000 | 20000 |\n",
    "| --- | --- | --- | --- | --- | --- | --- |\n",
    "| 0101 | 0 | 0 | 0 | 0 | 0 | 0.333 |\n",
    "| 0110 | 0 | 1.667 | 3 | 13.333 | 29.333 | 42 |\n",
    "| 1001 | 0 | 1 | 7.667 | 11 | 28.667 | 52.333 |\n",
    "| 1010 | 100 | 495.667 | 2971.5 | 4962 | 9922.667 | 19833.333 |\n",
    "| 1100 | 0 | 1.667 | 8.333 | 13.667 | 19.333 | 68.667 |\n",
    "\n",
    "| State | 100 | 500 | 2000 | 5000 | 10000 | 20000 |\n",
    "| --- | --- | --- | --- | --- | --- | --- |\n",
    "| 0101 | 0 | 0 | 0 | 0 | 0 | 0.00167 |\n",
    "| 0110 | 0 | 0.333 | 0.15 | 0.267 | 0.293 | 0.277 |\n",
    "| 1001 | 0 | 0.200 | 0.383 | 0.220 | 0.287 | 0.262 |\n",
    "| 1010 | 100 | 99.1 | 99.1 | 99.2 | 99.2 | 99.2 |\n",
    "| 1100 | 0 | 0.333 | 0.417 | 0.273 | 0.193 | 0.293 |\n",
    "\n",
    "What I find interesting is that it consistently produces the same states $|0110⟩, |1001⟩, |1010⟩$ and $|1100⟩$ until we reach 20,000 shots, where we find the first occurence of the $|0101⟩$ state. I decided to explore this further and increase the number of shots to 50,000. I ran the circuit 5 times at 50,000 shots, and once I observed the $|0101⟩$ state, but once I also observed the $|0000⟩$ state.\n",
    "\n",
    "I have included the results using the correct value of delta_t = 0.01 below:\n",
    "\n",
    "| State | 100 | 500 | 2000 | 5000 | 10000 | 20000 |\n",
    "| --- | --- | --- | --- | --- | --- | --- |\n",
    "| 0110 | 0 | 0 | 0 | 0 | 0.333 | 0.667 |\n",
    "| 1001 | 0 | 0 | 0.333 | 0 | 0.333 | 1.333 |\n",
    "| 1010 | 100 | 500 | 1999.667 | 5000 | 9999.333 | 19997.333 |\n",
    "| 1100 | 0 | 0 | 0 | 0 | 0.333 | 0.667 |\n",
    "\n",
    "I have decided to keep the first table of data because although it uses the wrong value for delta_t, it serves to show how the value of delta_t can have an affect on the frequency (and possibly even the number) of states observed.\n"
   ]
  },
  {
   "cell_type": "markdown",
   "id": "842555a7",
   "metadata": {},
   "source": [
    "\n",
    "I ran the circuit three times for each value of delta t, using values: 0.001, 0.005, 0.01, 0.05, 0.1 and 0.5.\n",
    "The table below shows the mean number of occurences of each state for each value of delta t.\n",
    "\n",
    "\n",
    "\n",
    "| State | 0.001 | 0.005 | 0.01 | 0.05 | 0.1 | 0.5 |\n",
    "| --- | --- | --- | --- | --- | --- | --- |\n",
    "| 0000 | 0 | 0 | 0 |0  | 0 | 20.667 |\n",
    "| 0011 | 0 | 0 | 0 |0  | 0 | 1.667 |\n",
    "| 0101 | 0 | 0 | 0 |0  | 0 | 87 |\n",
    "| 0110 | 0 | 0.333 | 0.667 | 16.667 | 51.667 | 1171.667 |\n",
    "| 1001 | 0 | 0 | 0.667 | 13.667 | 46.667 | 1164.333 |\n",
    "| 1010 | 20000 | 19999.333 | 19997.333 | 19959 | 19846 | 16508.333 |\n",
    "| 1100 | 0 | 0.333 | 1.333 | 10.667 | 55.667 | 1236.333 |\n",
    "| 1111 | 0 | 0 | 0 |0  | 0 | 20 |\n",
    "\n",
    "What is interesting this time around is that when we reach the value of 0.5, we all of a sudden see a whole new range of states, namely $|0000⟩, |0011⟩$ and $|1111⟩$ being introduced.\n"
   ]
  }
 ],
 "metadata": {
  "kernelspec": {
   "display_name": "Python 3",
   "language": "python",
   "name": "python3"
  },
  "language_info": {
   "codemirror_mode": {
    "name": "ipython",
    "version": 3
   },
   "file_extension": ".py",
   "mimetype": "text/x-python",
   "name": "python",
   "nbconvert_exporter": "python",
   "pygments_lexer": "ipython3",
   "version": "3.8.8"
  }
 },
 "nbformat": 4,
 "nbformat_minor": 5
}
